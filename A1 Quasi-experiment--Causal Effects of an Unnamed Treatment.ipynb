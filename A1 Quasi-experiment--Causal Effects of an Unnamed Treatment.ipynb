{
 "cells": [
  {
   "cell_type": "markdown",
   "metadata": {},
   "source": [
    "# Causal Effects of an Unnamed Treatment\n",
    "\n",
    "### Quasi-Experiment\n",
    "\n",
    "### Project Idea: \n",
    "Investigate the causal effects of a generic treatment on a generic outcome while considering instrumental variables and confounders.\n",
    "\n",
    "### Methodology: \n",
    "Utilize a simulated dataset with predefined treatment effects. Visualize the distribution of the treatment variable and construct a causal graph to identify instrumental variables and confounders. Estimate treatment effects using instrumental variable (IV) and Double Machine Learning (DML) methods. Test the robustness of results by adding a random common cause and evaluating changes in the measured effect."
   ]
  },
  {
   "cell_type": "markdown",
   "metadata": {},
   "source": [
    "# Setup:\n",
    "\n",
    "Before we begin, ensure you have Python installed along with the necessary libraries. We'll be using NumPy, pandas, seaborn, matplotlib, and the causal inference library, DoWhy."
   ]
  },
  {
   "cell_type": "code",
   "execution_count": null,
   "metadata": {},
   "outputs": [],
   "source": [
    "import numpy as np\n",
    "import pandas as pd\n",
    "import seaborn as sns\n",
    "import matplotlib.pyplot as plt\n",
    "\n",
    "import dowhy\n",
    "from dowhy import CausalModel\n",
    "import dowhy.datasets\n",
    "\n",
    "import warnings\n",
    "warnings.filterwarnings('ignore')"
   ]
  },
  {
   "cell_type": "markdown",
   "metadata": {},
   "source": [
    "# Generating Synthetic Data:\n",
    "\n",
    "To illustrate our methods, let's first create a simulated dataset with known treatment effects. This dataset will include confounders, instrument variables, and features to mimic real-world scenarios."
   ]
  },
  {
   "cell_type": "code",
   "execution_count": 25,
   "metadata": {},
   "outputs": [],
   "source": [
    "# set value of treatment effect\n",
    "\n",
    "BETA = 8"
   ]
  },
  {
   "cell_type": "code",
   "execution_count": 26,
   "metadata": {},
   "outputs": [
    {
     "data": {
      "text/html": [
       "<div>\n",
       "<style scoped>\n",
       "    .dataframe tbody tr th:only-of-type {\n",
       "        vertical-align: middle;\n",
       "    }\n",
       "\n",
       "    .dataframe tbody tr th {\n",
       "        vertical-align: top;\n",
       "    }\n",
       "\n",
       "    .dataframe thead th {\n",
       "        text-align: right;\n",
       "    }\n",
       "</style>\n",
       "<table border=\"1\" class=\"dataframe\">\n",
       "  <thead>\n",
       "    <tr style=\"text-align: right;\">\n",
       "      <th></th>\n",
       "      <th>X0</th>\n",
       "      <th>Z0</th>\n",
       "      <th>Z1</th>\n",
       "      <th>W0</th>\n",
       "      <th>W1</th>\n",
       "      <th>v0</th>\n",
       "      <th>y</th>\n",
       "    </tr>\n",
       "  </thead>\n",
       "  <tbody>\n",
       "    <tr>\n",
       "      <th>0</th>\n",
       "      <td>-0.112747</td>\n",
       "      <td>0.0</td>\n",
       "      <td>0.391671</td>\n",
       "      <td>1.900797</td>\n",
       "      <td>0.394058</td>\n",
       "      <td>True</td>\n",
       "      <td>10.844373</td>\n",
       "    </tr>\n",
       "    <tr>\n",
       "      <th>1</th>\n",
       "      <td>2.532181</td>\n",
       "      <td>0.0</td>\n",
       "      <td>0.003286</td>\n",
       "      <td>0.134481</td>\n",
       "      <td>1.515461</td>\n",
       "      <td>True</td>\n",
       "      <td>16.075013</td>\n",
       "    </tr>\n",
       "    <tr>\n",
       "      <th>2</th>\n",
       "      <td>0.839443</td>\n",
       "      <td>0.0</td>\n",
       "      <td>0.230394</td>\n",
       "      <td>0.224776</td>\n",
       "      <td>0.583575</td>\n",
       "      <td>True</td>\n",
       "      <td>11.104891</td>\n",
       "    </tr>\n",
       "    <tr>\n",
       "      <th>3</th>\n",
       "      <td>0.102762</td>\n",
       "      <td>0.0</td>\n",
       "      <td>0.255385</td>\n",
       "      <td>0.605956</td>\n",
       "      <td>-0.910394</td>\n",
       "      <td>True</td>\n",
       "      <td>5.296214</td>\n",
       "    </tr>\n",
       "    <tr>\n",
       "      <th>4</th>\n",
       "      <td>1.005329</td>\n",
       "      <td>0.0</td>\n",
       "      <td>0.965538</td>\n",
       "      <td>0.959316</td>\n",
       "      <td>1.444737</td>\n",
       "      <td>True</td>\n",
       "      <td>14.989143</td>\n",
       "    </tr>\n",
       "  </tbody>\n",
       "</table>\n",
       "</div>"
      ],
      "text/plain": [
       "         X0   Z0        Z1        W0        W1    v0          y\n",
       "0 -0.112747  0.0  0.391671  1.900797  0.394058  True  10.844373\n",
       "1  2.532181  0.0  0.003286  0.134481  1.515461  True  16.075013\n",
       "2  0.839443  0.0  0.230394  0.224776  0.583575  True  11.104891\n",
       "3  0.102762  0.0  0.255385  0.605956 -0.910394  True   5.296214\n",
       "4  1.005329  0.0  0.965538  0.959316  1.444737  True  14.989143"
      ]
     },
     "execution_count": 26,
     "metadata": {},
     "output_type": "execute_result"
    }
   ],
   "source": [
    "# generate data\n",
    "\n",
    "data = dowhy.datasets.linear_dataset(BETA,\n",
    "                                    num_common_causes=2, # confounders-influence treatment AND outcome X \n",
    "                                    num_samples=5000,\n",
    "                                    num_instruments=2, # instrument variables-influence only treatment Z\n",
    "                                    num_effect_modifiers=1, # features-only influence outcome (not treatment) W\n",
    "                                    treatment_is_binary=True, # binary treatment-you either get treatment or not\n",
    "                                    stddev_treatment_noise=5,\n",
    "                                    num_treatments=1)  # why more than one treatment? v\n",
    "\n",
    "df = data['df']\n",
    "\n",
    "df.head()"
   ]
  },
  {
   "cell_type": "markdown",
   "metadata": {},
   "source": [
    "# Exploring Data:\n",
    "\n",
    "Visualizing the distribution of our target variable based on treatment can offer initial insights into potential causal effects."
   ]
  },
  {
   "cell_type": "code",
   "execution_count": 27,
   "metadata": {},
   "outputs": [
    {
     "data": {
      "image/png": "[encoded data removed]",
      "text/plain": [
       "<Figure size 432x360 with 1 Axes>"
      ]
     },
     "metadata": {
      "needs_background": "light"
     },
     "output_type": "display_data"
    }
   ],
   "source": [
    "plt.figure(figsize=(6,5))\n",
    "\n",
    "sns.boxplot(y='y', x='v0', data=df)\n",
    "\n",
    "plt.tight_layout()"
   ]
  },
  {
   "cell_type": "markdown",
   "metadata": {},
   "source": [
    "# Understanding Causal Graph:\n",
    "\n",
    "Next, we construct a causal graph to visualize relationships between variables, a crucial step in identifying causal paths."
   ]
  },
  {
   "cell_type": "code",
   "execution_count": 28,
   "metadata": {
    "scrolled": true
   },
   "outputs": [
    {
     "data": {
      "image/png": "[encoded data removed]",
      "text/plain": [
       "<Figure size 576x432 with 1 Axes>"
      ]
     },
     "metadata": {},
     "output_type": "display_data"
    }
   ],
   "source": [
    "# Visualize causal pathway\n",
    "\n",
    "model = CausalModel(data=data['df'],\n",
    "                   treatment=data['treatment_name'],\n",
    "                   outcome=data['outcome_name'],\n",
    "                   graph=data['gml_graph'])\n",
    "\n",
    "model.view_model()"
   ]
  },
  {
   "cell_type": "markdown",
   "metadata": {},
   "source": [
    "# Identifying Treatment Effects:\n",
    "\n",
    "Using the identified causal model, we can estimate treatment effects through different methods. Here, we'll explore instrumental variable methods."
   ]
  },
  {
   "cell_type": "code",
   "execution_count": 29,
   "metadata": {
    "scrolled": true
   },
   "outputs": [
    {
     "name": "stdout",
     "output_type": "stream",
     "text": [
      "Estimand type: EstimandType.NONPARAMETRIC_ATE\n",
      "\n",
      "### Estimand : 1\n",
      "Estimand name: backdoor\n",
      "Estimand expression:\n",
      "  d              \n",
      "─────(E[y|W1,W0])\n",
      "d[v₀]            \n",
      "Estimand assumption 1, Unconfoundedness: If U→{v0} and U→y then P(y|v0,W1,W0,U) = P(y|v0,W1,W0)\n",
      "\n",
      "### Estimand : 2\n",
      "Estimand name: iv\n",
      "Estimand expression:\n",
      " ⎡                              -1⎤\n",
      " ⎢    d        ⎛    d          ⎞  ⎥\n",
      "E⎢─────────(y)⋅⎜─────────([v₀])⎟  ⎥\n",
      " ⎣d[Z₀  Z₁]    ⎝d[Z₀  Z₁]      ⎠  ⎦\n",
      "Estimand assumption 1, As-if-random: If U→→y then ¬(U →→{Z0,Z1})\n",
      "Estimand assumption 2, Exclusion: If we remove {Z0,Z1}→{v0}, then ¬({Z0,Z1}→y)\n",
      "\n",
      "### Estimand : 3\n",
      "Estimand name: frontdoor\n",
      "No such variable(s) found!\n",
      "\n"
     ]
    }
   ],
   "source": [
    "identified_estimand= model.identify_effect(proceed_when_unidentifiable=True)\n",
    "\n",
    "print(identified_estimand)"
   ]
  },
  {
   "cell_type": "code",
   "execution_count": 30,
   "metadata": {},
   "outputs": [
    {
     "name": "stdout",
     "output_type": "stream",
     "text": [
      "8.813798371998404\n"
     ]
    }
   ],
   "source": [
    "# Estimate Treatment Effect\n",
    "\n",
    "causal_estimate = model.estimate_effect(\n",
    "    identified_estimand,\n",
    "    method_name=\"iv.instrumental_variable\")\n",
    "\n",
    "print(causal_estimate.value)\n",
    "\n",
    "# Should be close to 8 (see line 2 BETA = 8)"
   ]
  },
  {
   "cell_type": "markdown",
   "metadata": {},
   "source": [
    "# Interpretation:\n",
    "\n",
    "Estimating treatment effects allows us to quantify the causal impact of interventions or actions, providing valuable insights for addressing broader business challenges.\n",
    "\n",
    "Estimated Value: The estimated treatment effect is 8.81. This value represents the magnitude of change in the outcome variable attributable to the treatment, facilitating a deeper understanding of the causal mechanisms at play.\n",
    "\n",
    "Implications: With an estimated treatment effect of 8.81, we gain actionable insights into the efficacy of the intervention under study. This knowledge empowers stakeholders to make informed decisions, optimize resource allocation, and drive strategic initiatives aimed at achieving desired outcomes. Moreover, by quantifying the treatment effect, we can assess the return on investment and prioritize interventions that yield the greatest impact on organizational goals."
   ]
  },
  {
   "cell_type": "markdown",
   "metadata": {},
   "source": [
    "# Alternative Methods:\n",
    "\n",
    "Additionally, machine learning techniques like Double Machine Learning (DML) can be employed for estimating treatment effects."
   ]
  },
  {
   "cell_type": "code",
   "execution_count": 32,
   "metadata": {},
   "outputs": [
    {
     "name": "stdout",
     "output_type": "stream",
     "text": [
      "8.504956634556974\n"
     ]
    }
   ],
   "source": [
    "# Double Machine Learning (DML) method\n",
    "#  machine learning models to learn the relationship between the features and the outcome, and between the treatment and the confounders.\n",
    "# Then, we can remove those relationships to just isolate the effect of the treatment on the outcome.\n",
    "\n",
    "from sklearn.preprocessing import PolynomialFeatures\n",
    "from sklearn.linear_model import LassoCV\n",
    "from sklearn.ensemble import GradientBoostingRegressor\n",
    "\n",
    "dml_estimate = model.estimate_effect(\n",
    "    identified_estimand, \n",
    "    method_name=\"iv.econml.dml.DML\",\n",
    "    control_value = 0,\n",
    "    treatment_value = 1,\n",
    "    confidence_intervals=False,\n",
    "    method_params={\"init_params\":{'model_y':GradientBoostingRegressor(),\n",
    "                                  'model_t': GradientBoostingRegressor(),\n",
    "                                  \"model_final\":LassoCV(fit_intercept=False),\n",
    "                                  'featurizer':PolynomialFeatures(degree=1, include_bias=False)},\n",
    "                   \"fit_params\":{}})\n",
    "print(dml_estimate.value)\n",
    "\n",
    "# Again, should be close to 8"
   ]
  },
  {
   "cell_type": "markdown",
   "metadata": {},
   "source": [
    "# Interpretation:\n",
    "\n",
    "Estimating treatment effects allows us to quantify the causal impact of interventions or actions, providing valuable insights for addressing broader business challenges.\n",
    "\n",
    "Estimated Value: The estimated treatment effect using the DML method is 8.50. This value signifies the average impact of the treatment on the outcome variable, considering the complex interplay between confounders, treatment, and outcome.\n",
    "\n",
    "Implications: While slightly different from the estimated treatment effect obtained through instrumental variable methods, the DML estimate of 8.50 underscores the robustness of our causal inference approach. The convergence of results from multiple methodologies strengthens the validity of our conclusions, lending greater credence to their applicability in real-world scenarios.\n"
   ]
  },
  {
   "cell_type": "markdown",
   "metadata": {},
   "source": [
    "# Evaluating Model Robustness:\n",
    "\n",
    "Finally, we assess the model's robustness by testing it against assumptions violations, such as introducing random common causes."
   ]
  },
  {
   "cell_type": "code",
   "execution_count": 33,
   "metadata": {},
   "outputs": [
    {
     "name": "stdout",
     "output_type": "stream",
     "text": [
      "Refute: Add a random common cause\n",
      "Estimated effect:8.813798371998404\n",
      "New effect:8.813798371998404\n",
      "p value:0.0\n",
      "\n"
     ]
    }
   ],
   "source": [
    "# to test that is to add a random common cause\n",
    "# add an independent random variable as a cause of the outcome\n",
    "# since the variable is random and independent, it should not impact the our measure of the treatment effect\n",
    "\n",
    "res_random=model.refute_estimate(identified_estimand, causal_estimate, method_name=\"random_common_cause\")\n",
    "\n",
    "print(res_random)"
   ]
  },
  {
   "cell_type": "code",
   "execution_count": 34,
   "metadata": {},
   "outputs": [],
   "source": [
    "# adding a random common cause does not change the measured effect\n",
    "# thus we can conclude that our model is robust and we can trust its causal effect estimate"
   ]
  },
  {
   "cell_type": "markdown",
   "metadata": {},
   "source": [
    "# Interpretation:\n",
    "\n",
    "Finally, we assess the model's robustness by testing it against assumptions violations, such as introducing random common causes.\n",
    "\n",
    "Estimated Effect: The estimated treatment effect before introducing a random common cause is 8.81. This value represents the average change in the outcome variable (e.g., sales, health outcomes) due to the treatment.\n",
    "New Effect: After introducing the random common cause, the estimated treatment effect remains unchanged at 8.81.\n",
    "p-value: The p-value associated with this test is 0.0. In statistical hypothesis testing, a p-value below a certain threshold (commonly 0.05) indicates strong evidence against the null hypothesis. Here, it suggests that the introduced random common cause does not significantly alter the estimated treatment effect.\n",
    "\n",
    "Implications: The consistency of the estimated treatment effect despite the introduction of a random common cause reaffirms the robustness of our causal inference model. This stability instills confidence in the reliability of our findings, bolstering their utility for informing decision-making processes."
   ]
  },
  {
   "cell_type": "markdown",
   "metadata": {},
   "source": [
    "# Conclusion:\n",
    "\n",
    "Through Python and causal inference techniques, we've unlocked the ability to dissect complex causal relationships from data. By understanding treatment effects, we empower decision-makers with actionable insights, driving impactful changes across various domains."
   ]
  }
 ],
 "metadata": {
  "kernelspec": {
   "display_name": "Python 3",
   "language": "python",
   "name": "python3"
  },
  "language_info": {
   "codemirror_mode": {
    "name": "ipython",
    "version": 3
   },
   "file_extension": ".py",
   "mimetype": "text/x-python",
   "name": "python",
   "nbconvert_exporter": "python",
   "pygments_lexer": "ipython3",
   "version": "3.8.5"
  }
 },
 "nbformat": 4,
 "nbformat_minor": 4
}
